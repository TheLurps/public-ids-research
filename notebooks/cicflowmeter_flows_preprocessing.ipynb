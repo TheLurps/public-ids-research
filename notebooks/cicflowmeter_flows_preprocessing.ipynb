{
 "cells": [
  {
   "cell_type": "markdown",
   "id": "340fa7cb-209c-4f50-9a07-f040683889fa",
   "metadata": {},
   "source": [
    "# Preprocessing for CICFlowMeter flows"
   ]
  },
  {
   "cell_type": "code",
   "execution_count": 1,
   "id": "5e68e778",
   "metadata": {},
   "outputs": [],
   "source": [
    "from pathlib import Path\n",
    "import polars as pl\n",
    "from ids_research.preprocessors import CicFlowMeterPreprocessor"
   ]
  },
  {
   "cell_type": "markdown",
   "id": "08d75abd",
   "metadata": {},
   "source": [
    "## CIC-IDS-2017"
   ]
  },
  {
   "cell_type": "code",
   "execution_count": 2,
   "id": "7add47eb",
   "metadata": {},
   "outputs": [
    {
     "data": {
      "text/html": [
       "<div><style>\n",
       ".dataframe > thead > tr,\n",
       ".dataframe > tbody > tr {\n",
       "  text-align: right;\n",
       "  white-space: pre-wrap;\n",
       "}\n",
       "</style>\n",
       "<small>shape: (5, 84)</small><table border=\"1\" class=\"dataframe\"><thead><tr><th>Flow ID</th><th>Src IP</th><th>Src Port</th><th>Dst IP</th><th>Dst Port</th><th>Protocol</th><th>Timestamp</th><th>Flow Duration</th><th>Total Fwd Packet</th><th>Total Bwd packets</th><th>Total Length of Fwd Packet</th><th>Total Length of Bwd Packet</th><th>Fwd Packet Length Max</th><th>Fwd Packet Length Min</th><th>Fwd Packet Length Mean</th><th>Fwd Packet Length Std</th><th>Bwd Packet Length Max</th><th>Bwd Packet Length Min</th><th>Bwd Packet Length Mean</th><th>Bwd Packet Length Std</th><th>Flow Bytes/s</th><th>Flow Packets/s</th><th>Flow IAT Mean</th><th>Flow IAT Std</th><th>Flow IAT Max</th><th>Flow IAT Min</th><th>Fwd IAT Total</th><th>Fwd IAT Mean</th><th>Fwd IAT Std</th><th>Fwd IAT Max</th><th>Fwd IAT Min</th><th>Bwd IAT Total</th><th>Bwd IAT Mean</th><th>Bwd IAT Std</th><th>Bwd IAT Max</th><th>Bwd IAT Min</th><th>Fwd PSH Flags</th><th>&hellip;</th><th>Packet Length Std</th><th>Packet Length Variance</th><th>FIN Flag Count</th><th>SYN Flag Count</th><th>RST Flag Count</th><th>PSH Flag Count</th><th>ACK Flag Count</th><th>URG Flag Count</th><th>CWR Flag Count</th><th>ECE Flag Count</th><th>Down/Up Ratio</th><th>Average Packet Size</th><th>Fwd Segment Size Avg</th><th>Bwd Segment Size Avg</th><th>Fwd Bytes/Bulk Avg</th><th>Fwd Packet/Bulk Avg</th><th>Fwd Bulk Rate Avg</th><th>Bwd Bytes/Bulk Avg</th><th>Bwd Packet/Bulk Avg</th><th>Bwd Bulk Rate Avg</th><th>Subflow Fwd Packets</th><th>Subflow Fwd Bytes</th><th>Subflow Bwd Packets</th><th>Subflow Bwd Bytes</th><th>FWD Init Win Bytes</th><th>Bwd Init Win Bytes</th><th>Fwd Act Data Pkts</th><th>Fwd Seg Size Min</th><th>Active Mean</th><th>Active Std</th><th>Active Max</th><th>Active Min</th><th>Idle Mean</th><th>Idle Std</th><th>Idle Max</th><th>Idle Min</th><th>Label</th></tr><tr><td>str</td><td>str</td><td>i64</td><td>str</td><td>i64</td><td>i64</td><td>datetime[μs]</td><td>i64</td><td>i64</td><td>i64</td><td>f64</td><td>f64</td><td>f64</td><td>f64</td><td>f64</td><td>f64</td><td>f64</td><td>f64</td><td>f64</td><td>f64</td><td>f64</td><td>f64</td><td>f64</td><td>f64</td><td>f64</td><td>f64</td><td>f64</td><td>f64</td><td>f64</td><td>f64</td><td>f64</td><td>f64</td><td>f64</td><td>f64</td><td>f64</td><td>f64</td><td>i64</td><td>&hellip;</td><td>f64</td><td>f64</td><td>i64</td><td>i64</td><td>i64</td><td>i64</td><td>i64</td><td>i64</td><td>i64</td><td>i64</td><td>f64</td><td>f64</td><td>f64</td><td>f64</td><td>i64</td><td>i64</td><td>i64</td><td>i64</td><td>i64</td><td>i64</td><td>i64</td><td>i64</td><td>i64</td><td>i64</td><td>i64</td><td>i64</td><td>i64</td><td>i64</td><td>f64</td><td>f64</td><td>f64</td><td>f64</td><td>f64</td><td>f64</td><td>f64</td><td>f64</td><td>str</td></tr></thead><tbody><tr><td>&quot;192.168.10.25-23.194.182.12-59…</td><td>&quot;192.168.10.25&quot;</td><td>59385</td><td>&quot;23.194.182.12&quot;</td><td>443</td><td>6</td><td>2017-07-03 01:00:01</td><td>83823</td><td>10</td><td>5</td><td>713.0</td><td>479.0</td><td>469.0</td><td>0.0</td><td>71.3</td><td>147.287361</td><td>341.0</td><td>0.0</td><td>95.8</td><td>149.52993</td><td>14220.440691</td><td>178.948499</td><td>5987.357143</td><td>9181.991385</td><td>23509.0</td><td>3.0</td><td>83823.0</td><td>9313.666667</td><td>11242.816384</td><td>23994.0</td><td>3.0</td><td>51900.0</td><td>12975.0</td><td>12669.114649</td><td>24005.0</td><td>540.0</td><td>0</td><td>&hellip;</td><td>139.666269</td><td>19506.666667</td><td>0</td><td>0</td><td>0</td><td>1</td><td>0</td><td>0</td><td>0</td><td>0</td><td>0.0</td><td>79.466667</td><td>71.3</td><td>95.8</td><td>0</td><td>0</td><td>0</td><td>0</td><td>0</td><td>0</td><td>10</td><td>713</td><td>5</td><td>479</td><td>65535</td><td>972</td><td>5</td><td>32</td><td>0.0</td><td>0.0</td><td>0.0</td><td>0.0</td><td>0.0</td><td>0.0</td><td>0.0</td><td>0.0</td><td>&quot;BENIGN&quot;</td></tr><tr><td>&quot;192.168.10.25-23.194.182.12-59…</td><td>&quot;23.194.182.12&quot;</td><td>443</td><td>&quot;192.168.10.25&quot;</td><td>59385</td><td>6</td><td>2017-07-03 01:00:01</td><td>3</td><td>2</td><td>0</td><td>37.0</td><td>0.0</td><td>37.0</td><td>0.0</td><td>18.5</td><td>26.162951</td><td>0.0</td><td>0.0</td><td>0.0</td><td>0.0</td><td>1.2333e7</td><td>666666.666667</td><td>3.0</td><td>0.0</td><td>3.0</td><td>3.0</td><td>3.0</td><td>3.0</td><td>0.0</td><td>3.0</td><td>3.0</td><td>0.0</td><td>0.0</td><td>0.0</td><td>0.0</td><td>0.0</td><td>1</td><td>&hellip;</td><td>21.36196</td><td>456.333333</td><td>0</td><td>1</td><td>0</td><td>0</td><td>1</td><td>0</td><td>0</td><td>0</td><td>0.0</td><td>37.0</td><td>18.5</td><td>0.0</td><td>0</td><td>0</td><td>0</td><td>0</td><td>0</td><td>0</td><td>2</td><td>37</td><td>0</td><td>0</td><td>972</td><td>-1</td><td>0</td><td>32</td><td>0.0</td><td>0.0</td><td>0.0</td><td>0.0</td><td>0.0</td><td>0.0</td><td>0.0</td><td>0.0</td><td>&quot;BENIGN&quot;</td></tr><tr><td>&quot;8.0.6.4-8.6.0.1-0-0-0&quot;</td><td>&quot;8.6.0.1&quot;</td><td>0</td><td>&quot;8.0.6.4&quot;</td><td>0</td><td>0</td><td>2017-07-03 01:00:01</td><td>118699862</td><td>76</td><td>0</td><td>0.0</td><td>0.0</td><td>0.0</td><td>0.0</td><td>0.0</td><td>0.0</td><td>0.0</td><td>0.0</td><td>0.0</td><td>0.0</td><td>0.0</td><td>0.64027</td><td>1.5827e6</td><td>3.4595e6</td><td>1.6832267e7</td><td>0.0</td><td>1.18699862e8</td><td>1.5827e6</td><td>3.4595e6</td><td>1.6832267e7</td><td>0.0</td><td>0.0</td><td>0.0</td><td>0.0</td><td>0.0</td><td>0.0</td><td>0</td><td>&hellip;</td><td>0.0</td><td>0.0</td><td>0</td><td>0</td><td>0</td><td>0</td><td>0</td><td>0</td><td>0</td><td>0</td><td>0.0</td><td>0.0</td><td>0.0</td><td>0.0</td><td>0</td><td>0</td><td>0</td><td>0</td><td>0</td><td>0</td><td>76</td><td>0</td><td>0</td><td>0</td><td>-1</td><td>-1</td><td>0</td><td>0</td><td>3.751428e6</td><td>2.9310e6</td><td>6.49062e6</td><td>1.0</td><td>1.0124e7</td><td>4.0564e6</td><td>1.6832267e7</td><td>6.003507e6</td><td>&quot;BENIGN&quot;</td></tr><tr><td>&quot;192.168.10.1-192.168.10.3-53-6…</td><td>&quot;192.168.10.3&quot;</td><td>61098</td><td>&quot;192.168.10.1&quot;</td><td>53</td><td>17</td><td>2017-07-03 01:00:01</td><td>86739</td><td>1</td><td>1</td><td>51.0</td><td>67.0</td><td>51.0</td><td>51.0</td><td>51.0</td><td>0.0</td><td>67.0</td><td>67.0</td><td>67.0</td><td>0.0</td><td>1360.403048</td><td>23.057679</td><td>86739.0</td><td>0.0</td><td>86739.0</td><td>86739.0</td><td>0.0</td><td>0.0</td><td>0.0</td><td>0.0</td><td>0.0</td><td>0.0</td><td>0.0</td><td>0.0</td><td>0.0</td><td>0.0</td><td>0</td><td>&hellip;</td><td>9.237604</td><td>85.333333</td><td>0</td><td>0</td><td>0</td><td>0</td><td>0</td><td>0</td><td>0</td><td>0</td><td>1.0</td><td>84.5</td><td>51.0</td><td>67.0</td><td>0</td><td>0</td><td>0</td><td>0</td><td>0</td><td>0</td><td>1</td><td>51</td><td>1</td><td>67</td><td>-1</td><td>-1</td><td>0</td><td>32</td><td>0.0</td><td>0.0</td><td>0.0</td><td>0.0</td><td>0.0</td><td>0.0</td><td>0.0</td><td>0.0</td><td>&quot;BENIGN&quot;</td></tr><tr><td>&quot;192.168.10.3-192.168.10.25-53-…</td><td>&quot;192.168.10.25&quot;</td><td>51147</td><td>&quot;192.168.10.3&quot;</td><td>53</td><td>17</td><td>2017-07-03 01:00:01</td><td>100934792</td><td>4</td><td>4</td><td>142.0</td><td>684.0</td><td>37.0</td><td>34.0</td><td>35.5</td><td>1.732051</td><td>211.0</td><td>131.0</td><td>171.0</td><td>46.188022</td><td>8.183501</td><td>0.079259</td><td>1.4419e7</td><td>3.8111e7</td><td>1.00847374e8</td><td>3.0</td><td>1.00934563e8</td><td>3.3645e7</td><td>5.8275e7</td><td>1.00934557e8</td><td>3.0</td><td>1.00847609e8</td><td>3.3616e7</td><td>5.8224e7</td><td>1.00847603e8</td><td>3.0</td><td>0</td><td>&hellip;</td><td>76.673732</td><td>5878.861111</td><td>0</td><td>0</td><td>0</td><td>0</td><td>0</td><td>0</td><td>0</td><td>0</td><td>1.0</td><td>107.875</td><td>35.5</td><td>171.0</td><td>0</td><td>0</td><td>0</td><td>0</td><td>0</td><td>0</td><td>4</td><td>142</td><td>4</td><td>684</td><td>-1</td><td>-1</td><td>3</td><td>32</td><td>87186.0</td><td>0.0</td><td>87186.0</td><td>87186.0</td><td>1.00847374e8</td><td>0.0</td><td>1.00847374e8</td><td>1.00847374e8</td><td>&quot;BENIGN&quot;</td></tr></tbody></table></div>"
      ],
      "text/plain": [
       "shape: (5, 84)\n",
       "┌────────────┬────────────┬──────────┬────────────┬───┬──────────┬────────────┬───────────┬────────┐\n",
       "│ Flow ID    ┆ Src IP     ┆ Src Port ┆ Dst IP     ┆ … ┆ Idle Std ┆ Idle Max   ┆ Idle Min  ┆ Label  │\n",
       "│ ---        ┆ ---        ┆ ---      ┆ ---        ┆   ┆ ---      ┆ ---        ┆ ---       ┆ ---    │\n",
       "│ str        ┆ str        ┆ i64      ┆ str        ┆   ┆ f64      ┆ f64        ┆ f64       ┆ str    │\n",
       "╞════════════╪════════════╪══════════╪════════════╪═══╪══════════╪════════════╪═══════════╪════════╡\n",
       "│ 192.168.10 ┆ 192.168.10 ┆ 59385    ┆ 23.194.182 ┆ … ┆ 0.0      ┆ 0.0        ┆ 0.0       ┆ BENIGN │\n",
       "│ .25-23.194 ┆ .25        ┆          ┆ .12        ┆   ┆          ┆            ┆           ┆        │\n",
       "│ .182.12-59 ┆            ┆          ┆            ┆   ┆          ┆            ┆           ┆        │\n",
       "│ …          ┆            ┆          ┆            ┆   ┆          ┆            ┆           ┆        │\n",
       "│ 192.168.10 ┆ 23.194.182 ┆ 443      ┆ 192.168.10 ┆ … ┆ 0.0      ┆ 0.0        ┆ 0.0       ┆ BENIGN │\n",
       "│ .25-23.194 ┆ .12        ┆          ┆ .25        ┆   ┆          ┆            ┆           ┆        │\n",
       "│ .182.12-59 ┆            ┆          ┆            ┆   ┆          ┆            ┆           ┆        │\n",
       "│ …          ┆            ┆          ┆            ┆   ┆          ┆            ┆           ┆        │\n",
       "│ 8.0.6.4-8. ┆ 8.6.0.1    ┆ 0        ┆ 8.0.6.4    ┆ … ┆ 4.0564e6 ┆ 1.6832267e ┆ 6.003507e ┆ BENIGN │\n",
       "│ 6.0.1-0-0- ┆            ┆          ┆            ┆   ┆          ┆ 7          ┆ 6         ┆        │\n",
       "│ 0          ┆            ┆          ┆            ┆   ┆          ┆            ┆           ┆        │\n",
       "│ 192.168.10 ┆ 192.168.10 ┆ 61098    ┆ 192.168.10 ┆ … ┆ 0.0      ┆ 0.0        ┆ 0.0       ┆ BENIGN │\n",
       "│ .1-192.168 ┆ .3         ┆          ┆ .1         ┆   ┆          ┆            ┆           ┆        │\n",
       "│ .10.3-53-6 ┆            ┆          ┆            ┆   ┆          ┆            ┆           ┆        │\n",
       "│ …          ┆            ┆          ┆            ┆   ┆          ┆            ┆           ┆        │\n",
       "│ 192.168.10 ┆ 192.168.10 ┆ 51147    ┆ 192.168.10 ┆ … ┆ 0.0      ┆ 1.00847374 ┆ 1.0084737 ┆ BENIGN │\n",
       "│ .3-192.168 ┆ .25        ┆          ┆ .3         ┆   ┆          ┆ e8         ┆ 4e8       ┆        │\n",
       "│ .10.25-53- ┆            ┆          ┆            ┆   ┆          ┆            ┆           ┆        │\n",
       "│ …          ┆            ┆          ┆            ┆   ┆          ┆            ┆           ┆        │\n",
       "└────────────┴────────────┴──────────┴────────────┴───┴──────────┴────────────┴───────────┴────────┘"
      ]
     },
     "execution_count": 2,
     "metadata": {},
     "output_type": "execute_result"
    }
   ],
   "source": [
    "cic_ids_2017_path = Path(\"~/data/CIC-IDS-2017_GeneratedLabelledFlows.parquet\")\n",
    "cic_ids_2017 = pl.read_parquet(cic_ids_2017_path.expanduser())\n",
    "cic_ids_2017.head()"
   ]
  },
  {
   "cell_type": "code",
   "execution_count": 3,
   "id": "6b655a30",
   "metadata": {},
   "outputs": [],
   "source": [
    "target_col = \"Label\""
   ]
  },
  {
   "cell_type": "code",
   "execution_count": 4,
   "id": "d9397cd0",
   "metadata": {},
   "outputs": [
    {
     "data": {
      "text/html": [
       "<div><style>\n",
       ".dataframe > thead > tr,\n",
       ".dataframe > tbody > tr {\n",
       "  text-align: right;\n",
       "  white-space: pre-wrap;\n",
       "}\n",
       "</style>\n",
       "<small>shape: (15, 1)</small><table border=\"1\" class=\"dataframe\"><thead><tr><th>Label</th></tr><tr><td>str</td></tr></thead><tbody><tr><td>&quot;Bot&quot;</td></tr><tr><td>&quot;Web Attack  Sql Injection&quot;</td></tr><tr><td>&quot;Web Attack  XSS&quot;</td></tr><tr><td>&quot;DoS GoldenEye&quot;</td></tr><tr><td>&quot;FTP-Patator&quot;</td></tr><tr><td>&hellip;</td></tr><tr><td>&quot;Infiltration&quot;</td></tr><tr><td>&quot;DoS slowloris&quot;</td></tr><tr><td>&quot;PortScan&quot;</td></tr><tr><td>&quot;DoS Slowhttptest&quot;</td></tr><tr><td>&quot;SSH-Patator&quot;</td></tr></tbody></table></div>"
      ],
      "text/plain": [
       "shape: (15, 1)\n",
       "┌────────────────────────────┐\n",
       "│ Label                      │\n",
       "│ ---                        │\n",
       "│ str                        │\n",
       "╞════════════════════════════╡\n",
       "│ Bot                        │\n",
       "│ Web Attack  Sql Injection │\n",
       "│ Web Attack  XSS           │\n",
       "│ DoS GoldenEye              │\n",
       "│ FTP-Patator                │\n",
       "│ …                          │\n",
       "│ Infiltration               │\n",
       "│ DoS slowloris              │\n",
       "│ PortScan                   │\n",
       "│ DoS Slowhttptest           │\n",
       "│ SSH-Patator                │\n",
       "└────────────────────────────┘"
      ]
     },
     "execution_count": 4,
     "metadata": {},
     "output_type": "execute_result"
    }
   ],
   "source": [
    "cic_ids_2017.select(target_col).unique()"
   ]
  },
  {
   "cell_type": "code",
   "execution_count": 5,
   "id": "a626562c",
   "metadata": {},
   "outputs": [],
   "source": [
    "preprocessor = CicFlowMeterPreprocessor()"
   ]
  },
  {
   "cell_type": "code",
   "execution_count": 6,
   "id": "7f116246",
   "metadata": {},
   "outputs": [],
   "source": [
    "preprocessor.fit(cic_ids_2017)"
   ]
  },
  {
   "cell_type": "code",
   "execution_count": 7,
   "id": "11be96ed",
   "metadata": {},
   "outputs": [
    {
     "data": {
      "text/html": [
       "<div><style>\n",
       ".dataframe > thead > tr,\n",
       ".dataframe > tbody > tr {\n",
       "  text-align: right;\n",
       "  white-space: pre-wrap;\n",
       "}\n",
       "</style>\n",
       "<small>shape: (5, 80)</small><table border=\"1\" class=\"dataframe\"><thead><tr><th>Flow Duration</th><th>Total Fwd Packet</th><th>Total Bwd packets</th><th>Total Length of Fwd Packet</th><th>Total Length of Bwd Packet</th><th>Fwd Packet Length Max</th><th>Fwd Packet Length Min</th><th>Fwd Packet Length Mean</th><th>Fwd Packet Length Std</th><th>Bwd Packet Length Max</th><th>Bwd Packet Length Min</th><th>Bwd Packet Length Mean</th><th>Bwd Packet Length Std</th><th>Flow Bytes/s</th><th>Flow Packets/s</th><th>Flow IAT Mean</th><th>Flow IAT Std</th><th>Flow IAT Max</th><th>Flow IAT Min</th><th>Fwd IAT Total</th><th>Fwd IAT Mean</th><th>Fwd IAT Std</th><th>Fwd IAT Max</th><th>Fwd IAT Min</th><th>Bwd IAT Total</th><th>Bwd IAT Mean</th><th>Bwd IAT Std</th><th>Bwd IAT Max</th><th>Bwd IAT Min</th><th>Fwd PSH Flags</th><th>Bwd PSH Flags</th><th>Fwd URG Flags</th><th>Bwd URG Flags</th><th>Fwd Header Length</th><th>Bwd Header Length</th><th>Fwd Packets/s</th><th>Bwd Packets/s</th><th>&hellip;</th><th>SYN Flag Count</th><th>RST Flag Count</th><th>PSH Flag Count</th><th>ACK Flag Count</th><th>URG Flag Count</th><th>CWR Flag Count</th><th>ECE Flag Count</th><th>Down/Up Ratio</th><th>Average Packet Size</th><th>Fwd Segment Size Avg</th><th>Bwd Segment Size Avg</th><th>Fwd Bytes/Bulk Avg</th><th>Fwd Packet/Bulk Avg</th><th>Fwd Bulk Rate Avg</th><th>Bwd Bytes/Bulk Avg</th><th>Bwd Packet/Bulk Avg</th><th>Bwd Bulk Rate Avg</th><th>Subflow Fwd Packets</th><th>Subflow Fwd Bytes</th><th>Subflow Bwd Packets</th><th>Subflow Bwd Bytes</th><th>FWD Init Win Bytes</th><th>Bwd Init Win Bytes</th><th>Fwd Act Data Pkts</th><th>Fwd Seg Size Min</th><th>Active Mean</th><th>Active Std</th><th>Active Max</th><th>Active Min</th><th>Idle Mean</th><th>Idle Std</th><th>Idle Max</th><th>Idle Min</th><th>Protocol_0</th><th>Protocol_17</th><th>Protocol_6</th><th>Label</th></tr><tr><td>f64</td><td>f64</td><td>f64</td><td>f64</td><td>f64</td><td>f64</td><td>f64</td><td>f64</td><td>f64</td><td>f64</td><td>f64</td><td>f64</td><td>f64</td><td>f64</td><td>f64</td><td>f64</td><td>f64</td><td>f64</td><td>f64</td><td>f64</td><td>f64</td><td>f64</td><td>f64</td><td>f64</td><td>f64</td><td>f64</td><td>f64</td><td>f64</td><td>f64</td><td>f64</td><td>f64</td><td>f64</td><td>f64</td><td>f64</td><td>f64</td><td>f64</td><td>f64</td><td>&hellip;</td><td>f64</td><td>f64</td><td>f64</td><td>f64</td><td>f64</td><td>f64</td><td>f64</td><td>f64</td><td>f64</td><td>f64</td><td>f64</td><td>f64</td><td>f64</td><td>f64</td><td>f64</td><td>f64</td><td>f64</td><td>f64</td><td>f64</td><td>f64</td><td>f64</td><td>f64</td><td>f64</td><td>f64</td><td>f64</td><td>f64</td><td>f64</td><td>f64</td><td>f64</td><td>f64</td><td>f64</td><td>f64</td><td>f64</td><td>u8</td><td>u8</td><td>u8</td><td>bool</td></tr></thead><tbody><tr><td>0.000699</td><td>0.000041</td><td>0.000017</td><td>0.000055</td><td>7.3079e-7</td><td>0.018896</td><td>0.0</td><td>0.012002</td><td>0.02067</td><td>0.01746</td><td>0.0</td><td>0.016516</td><td>0.018247</td><td>0.111927</td><td>0.333363</td><td>0.00005</td><td>0.000108</td><td>0.000196</td><td>1.4167e-7</td><td>0.000699</td><td>0.000078</td><td>0.000133</td><td>0.0002</td><td>1.2500e-7</td><td>0.0004325</td><td>0.000108</td><td>0.00015</td><td>0.0002</td><td>0.0000045</td><td>0.0</td><td>0.0</td><td>0.0</td><td>0.0</td><td>0.999856</td><td>0.994592</td><td>0.00004</td><td>0.00003</td><td>&hellip;</td><td>0.0</td><td>0.0</td><td>1.0</td><td>0.0</td><td>0.0</td><td>0.0</td><td>0.0</td><td>0.0</td><td>0.020411</td><td>0.012002</td><td>0.016516</td><td>0.0</td><td>0.0</td><td>0.0</td><td>0.0</td><td>0.0</td><td>0.0</td><td>0.000041</td><td>0.000055</td><td>0.000017</td><td>7.3079e-7</td><td>1.0</td><td>0.014847</td><td>0.000023</td><td>1.0</td><td>0.0</td><td>0.0</td><td>0.0</td><td>0.0</td><td>0.0</td><td>0.0</td><td>0.0</td><td>0.0</td><td>0</td><td>0</td><td>1</td><td>false</td></tr><tr><td>1.3333e-7</td><td>0.000005</td><td>0.0</td><td>0.000003</td><td>0.0</td><td>0.001491</td><td>0.0</td><td>0.003114</td><td>0.003672</td><td>0.0</td><td>0.0</td><td>0.0</td><td>0.0</td><td>0.11721</td><td>0.444444</td><td>1.3333e-7</td><td>0.0</td><td>1.3333e-7</td><td>1.4167e-7</td><td>2.5000e-8</td><td>2.5000e-8</td><td>0.0</td><td>2.5000e-8</td><td>1.2500e-7</td><td>0.0</td><td>0.0</td><td>0.0</td><td>0.0</td><td>0.0</td><td>1.0</td><td>0.0</td><td>0.0</td><td>0.0</td><td>0.999856</td><td>0.994592</td><td>0.222222</td><td>0.0</td><td>&hellip;</td><td>1.0</td><td>0.0</td><td>0.0</td><td>1.0</td><td>0.0</td><td>0.0</td><td>0.0</td><td>0.0</td><td>0.009503</td><td>0.003114</td><td>0.0</td><td>0.0</td><td>0.0</td><td>0.0</td><td>0.0</td><td>0.0</td><td>0.0</td><td>0.000005</td><td>0.000003</td><td>0.0</td><td>0.0</td><td>0.014847</td><td>0.0</td><td>0.0</td><td>1.0</td><td>0.0</td><td>0.0</td><td>0.0</td><td>0.0</td><td>0.0</td><td>0.0</td><td>0.0</td><td>0.0</td><td>0</td><td>0</td><td>1</td><td>false</td></tr><tr><td>0.989166</td><td>0.000341</td><td>0.0</td><td>0.0</td><td>0.0</td><td>0.0</td><td>0.0</td><td>0.0</td><td>0.0</td><td>0.0</td><td>0.0</td><td>0.0</td><td>0.0</td><td>0.111921</td><td>0.333333</td><td>0.013189</td><td>0.040795</td><td>0.140269</td><td>1.1667e-7</td><td>0.989166</td><td>0.013189</td><td>0.040891</td><td>0.140269</td><td>1.0000e-7</td><td>0.0</td><td>0.0</td><td>0.0</td><td>0.0</td><td>0.0</td><td>0.0</td><td>0.0</td><td>0.0</td><td>0.0</td><td>0.999856</td><td>0.994592</td><td>2.1342e-7</td><td>0.0</td><td>&hellip;</td><td>0.0</td><td>0.0</td><td>0.0</td><td>0.0</td><td>0.0</td><td>0.0</td><td>0.0</td><td>0.0</td><td>0.0</td><td>0.0</td><td>0.0</td><td>0.0</td><td>0.0</td><td>0.0</td><td>0.0</td><td>0.0</td><td>0.0</td><td>0.000341</td><td>0.0</td><td>0.0</td><td>0.0</td><td>0.0</td><td>0.0</td><td>0.0</td><td>1.0</td><td>0.034104</td><td>0.039501</td><td>0.059006</td><td>9.0909e-9</td><td>0.084367</td><td>0.052749</td><td>0.140269</td><td>0.050029</td><td>1</td><td>0</td><td>0</td><td>false</td></tr><tr><td>0.000723</td><td>0.0</td><td>0.000003</td><td>0.000004</td><td>1.0222e-7</td><td>0.002055</td><td>0.021935</td><td>0.008585</td><td>0.0</td><td>0.003431</td><td>0.023135</td><td>0.011551</td><td>0.0</td><td>0.111922</td><td>0.333337</td><td>0.000723</td><td>0.0</td><td>0.000723</td><td>0.000723</td><td>0.0</td><td>0.0</td><td>0.0</td><td>0.0</td><td>1.0000e-7</td><td>0.0</td><td>0.0</td><td>0.0</td><td>0.0</td><td>0.0</td><td>0.0</td><td>0.0</td><td>0.0</td><td>0.0</td><td>0.999856</td><td>0.994592</td><td>0.000004</td><td>0.000006</td><td>&hellip;</td><td>0.0</td><td>0.0</td><td>0.0</td><td>0.0</td><td>0.0</td><td>0.0</td><td>0.0</td><td>0.00641</td><td>0.021704</td><td>0.008585</td><td>0.011551</td><td>0.0</td><td>0.0</td><td>0.0</td><td>0.0</td><td>0.0</td><td>0.0</td><td>0.0</td><td>0.000004</td><td>0.000003</td><td>1.0222e-7</td><td>0.0</td><td>0.0</td><td>0.0</td><td>1.0</td><td>0.0</td><td>0.0</td><td>0.0</td><td>0.0</td><td>0.0</td><td>0.0</td><td>0.0</td><td>0.0</td><td>0</td><td>1</td><td>0</td><td>false</td></tr><tr><td>0.841123</td><td>0.000014</td><td>0.000014</td><td>0.000011</td><td>0.000001</td><td>0.001491</td><td>0.014624</td><td>0.005976</td><td>0.000243</td><td>0.010804</td><td>0.045235</td><td>0.02948</td><td>0.005636</td><td>0.111921</td><td>0.333333</td><td>0.120161</td><td>0.449424</td><td>0.840395</td><td>1.4167e-7</td><td>0.841121</td><td>0.280374</td><td>0.688801</td><td>0.841121</td><td>1.2500e-7</td><td>0.840397</td><td>0.280132</td><td>0.689715</td><td>0.840397</td><td>2.5000e-8</td><td>0.0</td><td>0.0</td><td>0.0</td><td>0.0</td><td>0.999856</td><td>0.994592</td><td>1.3210e-8</td><td>1.9815e-8</td><td>&hellip;</td><td>0.0</td><td>0.0</td><td>0.0</td><td>0.0</td><td>0.0</td><td>0.0</td><td>0.0</td><td>0.00641</td><td>0.027708</td><td>0.005976</td><td>0.02948</td><td>0.0</td><td>0.0</td><td>0.0</td><td>0.0</td><td>0.0</td><td>0.0</td><td>0.000014</td><td>0.000011</td><td>0.000014</td><td>0.000001</td><td>0.0</td><td>0.0</td><td>0.000014</td><td>1.0</td><td>0.0007926</td><td>0.0</td><td>0.0007926</td><td>0.0007926</td><td>0.840395</td><td>0.0</td><td>0.840395</td><td>0.840395</td><td>0</td><td>1</td><td>0</td><td>false</td></tr></tbody></table></div>"
      ],
      "text/plain": [
       "shape: (5, 80)\n",
       "┌────────────┬────────────┬────────────┬───────────┬───┬───────────┬───────────┬───────────┬───────┐\n",
       "│ Flow       ┆ Total Fwd  ┆ Total Bwd  ┆ Total     ┆ … ┆ Protocol_ ┆ Protocol_ ┆ Protocol_ ┆ Label │\n",
       "│ Duration   ┆ Packet     ┆ packets    ┆ Length of ┆   ┆ 0         ┆ 17        ┆ 6         ┆ ---   │\n",
       "│ ---        ┆ ---        ┆ ---        ┆ Fwd       ┆   ┆ ---       ┆ ---       ┆ ---       ┆ bool  │\n",
       "│ f64        ┆ f64        ┆ f64        ┆ Packet    ┆   ┆ u8        ┆ u8        ┆ u8        ┆       │\n",
       "│            ┆            ┆            ┆ ---       ┆   ┆           ┆           ┆           ┆       │\n",
       "│            ┆            ┆            ┆ f64       ┆   ┆           ┆           ┆           ┆       │\n",
       "╞════════════╪════════════╪════════════╪═══════════╪═══╪═══════════╪═══════════╪═══════════╪═══════╡\n",
       "│ 0.000699   ┆ 0.000041   ┆ 0.000017   ┆ 0.000055  ┆ … ┆ 0         ┆ 0         ┆ 1         ┆ false │\n",
       "│ 1.3333e-7  ┆ 0.000005   ┆ 0.0        ┆ 0.000003  ┆ … ┆ 0         ┆ 0         ┆ 1         ┆ false │\n",
       "│ 0.989166   ┆ 0.000341   ┆ 0.0        ┆ 0.0       ┆ … ┆ 1         ┆ 0         ┆ 0         ┆ false │\n",
       "│ 0.000723   ┆ 0.0        ┆ 0.000003   ┆ 0.000004  ┆ … ┆ 0         ┆ 1         ┆ 0         ┆ false │\n",
       "│ 0.841123   ┆ 0.000014   ┆ 0.000014   ┆ 0.000011  ┆ … ┆ 0         ┆ 1         ┆ 0         ┆ false │\n",
       "└────────────┴────────────┴────────────┴───────────┴───┴───────────┴───────────┴───────────┴───────┘"
      ]
     },
     "execution_count": 7,
     "metadata": {},
     "output_type": "execute_result"
    }
   ],
   "source": [
    "cic_ids_2017_transformed = preprocessor.transform(cic_ids_2017)\n",
    "cic_ids_2017_transformed.head()"
   ]
  },
  {
   "cell_type": "code",
   "execution_count": 8,
   "id": "1f7dd1f5",
   "metadata": {},
   "outputs": [
    {
     "data": {
      "text/html": [
       "<div><style>\n",
       ".dataframe > thead > tr,\n",
       ".dataframe > tbody > tr {\n",
       "  text-align: right;\n",
       "  white-space: pre-wrap;\n",
       "}\n",
       "</style>\n",
       "<small>shape: (1, 8)</small><table border=\"1\" class=\"dataframe\"><thead><tr><th>Bwd PSH Flags</th><th>Bwd URG Flags</th><th>Fwd Bytes/Bulk Avg</th><th>Fwd Packet/Bulk Avg</th><th>Fwd Bulk Rate Avg</th><th>Bwd Bytes/Bulk Avg</th><th>Bwd Packet/Bulk Avg</th><th>Bwd Bulk Rate Avg</th></tr><tr><td>u32</td><td>u32</td><td>u32</td><td>u32</td><td>u32</td><td>u32</td><td>u32</td><td>u32</td></tr></thead><tbody><tr><td>1</td><td>1</td><td>1</td><td>1</td><td>1</td><td>1</td><td>1</td><td>1</td></tr></tbody></table></div>"
      ],
      "text/plain": [
       "shape: (1, 8)\n",
       "┌────────────┬────────────┬────────────┬───────────┬───────────┬───────────┬───────────┬───────────┐\n",
       "│ Bwd PSH    ┆ Bwd URG    ┆ Fwd        ┆ Fwd Packe ┆ Fwd Bulk  ┆ Bwd Bytes ┆ Bwd Packe ┆ Bwd Bulk  │\n",
       "│ Flags      ┆ Flags      ┆ Bytes/Bulk ┆ t/Bulk    ┆ Rate Avg  ┆ /Bulk Avg ┆ t/Bulk    ┆ Rate Avg  │\n",
       "│ ---        ┆ ---        ┆ Avg        ┆ Avg       ┆ ---       ┆ ---       ┆ Avg       ┆ ---       │\n",
       "│ u32        ┆ u32        ┆ ---        ┆ ---       ┆ u32       ┆ u32       ┆ ---       ┆ u32       │\n",
       "│            ┆            ┆ u32        ┆ u32       ┆           ┆           ┆ u32       ┆           │\n",
       "╞════════════╪════════════╪════════════╪═══════════╪═══════════╪═══════════╪═══════════╪═══════════╡\n",
       "│ 1          ┆ 1          ┆ 1          ┆ 1         ┆ 1         ┆ 1         ┆ 1         ┆ 1         │\n",
       "└────────────┴────────────┴────────────┴───────────┴───────────┴───────────┴───────────┴───────────┘"
      ]
     },
     "execution_count": 8,
     "metadata": {},
     "output_type": "execute_result"
    }
   ],
   "source": [
    "# constant columns\n",
    "cic_ids_2017_transformed.select([\n",
    "    pl.col(col).n_unique() for col in cic_ids_2017_transformed.columns\n",
    "    if cic_ids_2017_transformed.select(pl.col(col).n_unique()).item() < 2\n",
    "])\n"
   ]
  },
  {
   "cell_type": "markdown",
   "id": "ff6519ac",
   "metadata": {},
   "source": [
    "## MAWILab"
   ]
  },
  {
   "cell_type": "code",
   "execution_count": 9,
   "id": "df44f193",
   "metadata": {},
   "outputs": [
    {
     "data": {
      "text/html": [
       "<div><style>\n",
       ".dataframe > thead > tr,\n",
       ".dataframe > tbody > tr {\n",
       "  text-align: right;\n",
       "  white-space: pre-wrap;\n",
       "}\n",
       "</style>\n",
       "<small>shape: (5, 90)</small><table border=\"1\" class=\"dataframe\"><thead><tr><th>Flow ID</th><th>Src IP</th><th>Src Port</th><th>Dst IP</th><th>Dst Port</th><th>Protocol</th><th>Timestamp</th><th>Flow Duration</th><th>Total Fwd Packet</th><th>Total Bwd packets</th><th>Total Length of Fwd Packet</th><th>Total Length of Bwd Packet</th><th>Fwd Packet Length Max</th><th>Fwd Packet Length Min</th><th>Fwd Packet Length Mean</th><th>Fwd Packet Length Std</th><th>Bwd Packet Length Max</th><th>Bwd Packet Length Min</th><th>Bwd Packet Length Mean</th><th>Bwd Packet Length Std</th><th>Flow Bytes/s</th><th>Flow Packets/s</th><th>Flow IAT Mean</th><th>Flow IAT Std</th><th>Flow IAT Max</th><th>Flow IAT Min</th><th>Fwd IAT Total</th><th>Fwd IAT Mean</th><th>Fwd IAT Std</th><th>Fwd IAT Max</th><th>Fwd IAT Min</th><th>Bwd IAT Total</th><th>Bwd IAT Mean</th><th>Bwd IAT Std</th><th>Bwd IAT Max</th><th>Bwd IAT Min</th><th>Fwd PSH Flags</th><th>&hellip;</th><th>ACK Flag Count</th><th>URG Flag Count</th><th>CWR Flag Count</th><th>ECE Flag Count</th><th>Down/Up Ratio</th><th>Average Packet Size</th><th>Fwd Segment Size Avg</th><th>Bwd Segment Size Avg</th><th>Fwd Bytes/Bulk Avg</th><th>Fwd Packet/Bulk Avg</th><th>Fwd Bulk Rate Avg</th><th>Bwd Bytes/Bulk Avg</th><th>Bwd Packet/Bulk Avg</th><th>Bwd Bulk Rate Avg</th><th>Subflow Fwd Packets</th><th>Subflow Fwd Bytes</th><th>Subflow Bwd Packets</th><th>Subflow Bwd Bytes</th><th>FWD Init Win Bytes</th><th>Bwd Init Win Bytes</th><th>Fwd Act Data Pkts</th><th>Fwd Seg Size Min</th><th>Active Mean</th><th>Active Std</th><th>Active Max</th><th>Active Min</th><th>Idle Mean</th><th>Idle Std</th><th>Idle Max</th><th>Idle Min</th><th>Label</th><th>filename</th><th>Anomaly ID</th><th>Taxonomy</th><th>Heuristic</th><th>Detectors</th><th>Distance</th></tr><tr><td>str</td><td>str</td><td>i64</td><td>str</td><td>i64</td><td>i64</td><td>datetime[μs]</td><td>i64</td><td>i64</td><td>i64</td><td>f64</td><td>f64</td><td>f64</td><td>f64</td><td>f64</td><td>f64</td><td>f64</td><td>f64</td><td>f64</td><td>f64</td><td>f64</td><td>f64</td><td>f64</td><td>f64</td><td>f64</td><td>f64</td><td>f64</td><td>f64</td><td>f64</td><td>f64</td><td>f64</td><td>f64</td><td>f64</td><td>f64</td><td>f64</td><td>f64</td><td>i64</td><td>&hellip;</td><td>i64</td><td>i64</td><td>i64</td><td>i64</td><td>f64</td><td>f64</td><td>f64</td><td>f64</td><td>i64</td><td>i64</td><td>i64</td><td>i64</td><td>i64</td><td>i64</td><td>i64</td><td>i64</td><td>i64</td><td>i64</td><td>i64</td><td>i64</td><td>i64</td><td>i64</td><td>f64</td><td>f64</td><td>f64</td><td>f64</td><td>f64</td><td>f64</td><td>f64</td><td>f64</td><td>str</td><td>str</td><td>u16</td><td>str</td><td>f64</td><td>u8</td><td>f64</td></tr></thead><tbody><tr><td>&quot;71.227.62.172-208.162.239.49-1…</td><td>&quot;71.227.62.172&quot;</td><td>1131</td><td>&quot;208.162.239.49&quot;</td><td>445</td><td>6</td><td>2011-01-01 05:00:00</td><td>2949823</td><td>2</td><td>0</td><td>0.0</td><td>0.0</td><td>0.0</td><td>0.0</td><td>0.0</td><td>0.0</td><td>0.0</td><td>0.0</td><td>0.0</td><td>0.0</td><td>0.0</td><td>0.678007</td><td>2.949823e6</td><td>0.0</td><td>2.949823e6</td><td>2.949823e6</td><td>2.949823e6</td><td>2.949823e6</td><td>0.0</td><td>2.949823e6</td><td>2.949823e6</td><td>0.0</td><td>0.0</td><td>0.0</td><td>0.0</td><td>0.0</td><td>0</td><td>&hellip;</td><td>0</td><td>0</td><td>0</td><td>0</td><td>0.0</td><td>0.0</td><td>0.0</td><td>0.0</td><td>0</td><td>0</td><td>0</td><td>0</td><td>0</td><td>0</td><td>2</td><td>0</td><td>0</td><td>0</td><td>65535</td><td>0</td><td>0</td><td>28</td><td>0.0</td><td>0.0</td><td>0.0</td><td>0.0</td><td>0.0</td><td>0.0</td><td>0.0</td><td>0.0</td><td>&quot;benign&quot;</td><td>&quot;data/cicflowmeter/v1.1/year=20…</td><td>null</td><td>null</td><td>null</td><td>null</td><td>null</td></tr><tr><td>&quot;208.31.103.165-19.220.88.113-4…</td><td>&quot;208.31.103.165&quot;</td><td>49522</td><td>&quot;19.220.88.113&quot;</td><td>8908</td><td>6</td><td>2011-01-01 05:00:00</td><td>112726382</td><td>8</td><td>17</td><td>0.0</td><td>0.0</td><td>0.0</td><td>0.0</td><td>0.0</td><td>0.0</td><td>0.0</td><td>0.0</td><td>0.0</td><td>0.0</td><td>0.0</td><td>0.221776</td><td>4.6969e6</td><td>4.1383e6</td><td>1.4521369e7</td><td>987.0</td><td>1.07452006e8</td><td>1.5350e7</td><td>1.3002e7</td><td>3.9035203e7</td><td>2.178362e6</td><td>1.12612328e8</td><td>7.0383e6</td><td>6.0332e6</td><td>2.0807137e7</td><td>987.0</td><td>0</td><td>&hellip;</td><td>25</td><td>0</td><td>0</td><td>0</td><td>2.0</td><td>0.0</td><td>0.0</td><td>0.0</td><td>0</td><td>0</td><td>0</td><td>0</td><td>0</td><td>0</td><td>0</td><td>0</td><td>0</td><td>0</td><td>65178</td><td>65392</td><td>0</td><td>20</td><td>4945919.4</td><td>1.9706e6</td><td>7.56105e6</td><td>2.871024e6</td><td>9.185495e6</td><td>2.8411e6</td><td>1.4521369e7</td><td>5.47014e6</td><td>&quot;suspicious&quot;</td><td>&quot;data/cicflowmeter/v1.1/year=20…</td><td>68</td><td>&quot;alphflHTTP&quot;</td><td>-0.12005</td><td>3</td><td>null</td></tr><tr><td>&quot;209.114.168.96-141.10.194.33-5…</td><td>&quot;209.114.168.96&quot;</td><td>51514</td><td>&quot;141.10.194.33&quot;</td><td>48698</td><td>17</td><td>2011-01-01 05:00:00</td><td>65496520</td><td>520</td><td>0</td><td>0.0</td><td>0.0</td><td>0.0</td><td>0.0</td><td>0.0</td><td>0.0</td><td>0.0</td><td>0.0</td><td>0.0</td><td>0.0</td><td>0.0</td><td>7.939353</td><td>126197.533719</td><td>318157.256111</td><td>1.477244e6</td><td>1.0</td><td>6.549652e7</td><td>126197.533719</td><td>318157.256111</td><td>1.477244e6</td><td>1.0</td><td>0.0</td><td>0.0</td><td>0.0</td><td>0.0</td><td>0.0</td><td>0</td><td>&hellip;</td><td>0</td><td>0</td><td>0</td><td>0</td><td>0.0</td><td>0.0</td><td>0.0</td><td>0.0</td><td>0</td><td>0</td><td>0</td><td>0</td><td>0</td><td>0</td><td>520</td><td>0</td><td>0</td><td>0</td><td>0</td><td>0</td><td>0</td><td>8</td><td>0.0</td><td>0.0</td><td>0.0</td><td>0.0</td><td>0.0</td><td>0.0</td><td>0.0</td><td>0.0</td><td>&quot;anomalous&quot;</td><td>&quot;data/cicflowmeter/v1.1/year=20…</td><td>0</td><td>&quot;mptmp&quot;</td><td>0.23749</td><td>7</td><td>null</td></tr><tr><td>&quot;168.203.32.74-18.41.105.157-80…</td><td>&quot;168.203.32.74&quot;</td><td>80</td><td>&quot;18.41.105.157&quot;</td><td>1141</td><td>6</td><td>2011-01-01 05:00:00</td><td>5982238</td><td>39</td><td>0</td><td>0.0</td><td>0.0</td><td>0.0</td><td>0.0</td><td>0.0</td><td>0.0</td><td>0.0</td><td>0.0</td><td>0.0</td><td>0.0</td><td>0.0</td><td>6.519299</td><td>157427.315789</td><td>367188.848647</td><td>1.73255e6</td><td>1.0</td><td>5.982238e6</td><td>157427.315789</td><td>367188.848647</td><td>1.73255e6</td><td>1.0</td><td>0.0</td><td>0.0</td><td>0.0</td><td>0.0</td><td>0.0</td><td>0</td><td>&hellip;</td><td>39</td><td>0</td><td>0</td><td>0</td><td>0.0</td><td>0.0</td><td>0.0</td><td>0.0</td><td>0</td><td>0</td><td>0</td><td>0</td><td>0</td><td>0</td><td>19</td><td>0</td><td>0</td><td>0</td><td>108</td><td>0</td><td>0</td><td>20</td><td>0.0</td><td>0.0</td><td>0.0</td><td>0.0</td><td>0.0</td><td>0.0</td><td>0.0</td><td>0.0</td><td>&quot;anomalous&quot;</td><td>&quot;data/cicflowmeter/v1.1/year=20…</td><td>9</td><td>&quot;mptmp&quot;</td><td>0.13257</td><td>7</td><td>null</td></tr><tr><td>&quot;209.114.168.106-97.241.163.189…</td><td>&quot;209.114.168.106&quot;</td><td>3125</td><td>&quot;97.241.163.189&quot;</td><td>49347</td><td>6</td><td>2011-01-01 05:00:00</td><td>117767159</td><td>34</td><td>31</td><td>0.0</td><td>0.0</td><td>0.0</td><td>0.0</td><td>0.0</td><td>0.0</td><td>0.0</td><td>0.0</td><td>0.0</td><td>0.0</td><td>0.0</td><td>0.551937</td><td>1.8401e6</td><td>2.5322e6</td><td>1.3201488e7</td><td>5.0</td><td>1.02091712e8</td><td>3.0937e6</td><td>4.3602e6</td><td>1.6993836e7</td><td>5.0</td><td>1.15678597e8</td><td>3.8560e6</td><td>3.7344e6</td><td>1.4775717e7</td><td>495970.0</td><td>0</td><td>&hellip;</td><td>65</td><td>0</td><td>0</td><td>0</td><td>0.0</td><td>0.0</td><td>0.0</td><td>0.0</td><td>0</td><td>0</td><td>0</td><td>0</td><td>0</td><td>0</td><td>0</td><td>0</td><td>0</td><td>0</td><td>6432</td><td>65044</td><td>0</td><td>20</td><td>9.1184e6</td><td>6.3678e6</td><td>1.982748e7</td><td>1.657073e6</td><td>7.8105e6</td><td>3.2299e6</td><td>1.3201488e7</td><td>5.202422e6</td><td>&quot;suspicious&quot;</td><td>&quot;data/cicflowmeter/v1.1/year=20…</td><td>38</td><td>&quot;ptmpla&quot;</td><td>-0.389427</td><td>3</td><td>null</td></tr></tbody></table></div>"
      ],
      "text/plain": [
       "shape: (5, 90)\n",
       "┌────────────┬───────────┬──────────┬───────────┬───┬───────────┬───────────┬───────────┬──────────┐\n",
       "│ Flow ID    ┆ Src IP    ┆ Src Port ┆ Dst IP    ┆ … ┆ Taxonomy  ┆ Heuristic ┆ Detectors ┆ Distance │\n",
       "│ ---        ┆ ---       ┆ ---      ┆ ---       ┆   ┆ ---       ┆ ---       ┆ ---       ┆ ---      │\n",
       "│ str        ┆ str       ┆ i64      ┆ str       ┆   ┆ str       ┆ f64       ┆ u8        ┆ f64      │\n",
       "╞════════════╪═══════════╪══════════╪═══════════╪═══╪═══════════╪═══════════╪═══════════╪══════════╡\n",
       "│ 71.227.62. ┆ 71.227.62 ┆ 1131     ┆ 208.162.2 ┆ … ┆ null      ┆ null      ┆ null      ┆ null     │\n",
       "│ 172-208.16 ┆ .172      ┆          ┆ 39.49     ┆   ┆           ┆           ┆           ┆          │\n",
       "│ 2.239.49-1 ┆           ┆          ┆           ┆   ┆           ┆           ┆           ┆          │\n",
       "│ …          ┆           ┆          ┆           ┆   ┆           ┆           ┆           ┆          │\n",
       "│ 208.31.103 ┆ 208.31.10 ┆ 49522    ┆ 19.220.88 ┆ … ┆ alphflHTT ┆ -0.12005  ┆ 3         ┆ null     │\n",
       "│ .165-19.22 ┆ 3.165     ┆          ┆ .113      ┆   ┆ P         ┆           ┆           ┆          │\n",
       "│ 0.88.113-4 ┆           ┆          ┆           ┆   ┆           ┆           ┆           ┆          │\n",
       "│ …          ┆           ┆          ┆           ┆   ┆           ┆           ┆           ┆          │\n",
       "│ 209.114.16 ┆ 209.114.1 ┆ 51514    ┆ 141.10.19 ┆ … ┆ mptmp     ┆ 0.23749   ┆ 7         ┆ null     │\n",
       "│ 8.96-141.1 ┆ 68.96     ┆          ┆ 4.33      ┆   ┆           ┆           ┆           ┆          │\n",
       "│ 0.194.33-5 ┆           ┆          ┆           ┆   ┆           ┆           ┆           ┆          │\n",
       "│ …          ┆           ┆          ┆           ┆   ┆           ┆           ┆           ┆          │\n",
       "│ 168.203.32 ┆ 168.203.3 ┆ 80       ┆ 18.41.105 ┆ … ┆ mptmp     ┆ 0.13257   ┆ 7         ┆ null     │\n",
       "│ .74-18.41. ┆ 2.74      ┆          ┆ .157      ┆   ┆           ┆           ┆           ┆          │\n",
       "│ 105.157-80 ┆           ┆          ┆           ┆   ┆           ┆           ┆           ┆          │\n",
       "│ …          ┆           ┆          ┆           ┆   ┆           ┆           ┆           ┆          │\n",
       "│ 209.114.16 ┆ 209.114.1 ┆ 3125     ┆ 97.241.16 ┆ … ┆ ptmpla    ┆ -0.389427 ┆ 3         ┆ null     │\n",
       "│ 8.106-97.2 ┆ 68.106    ┆          ┆ 3.189     ┆   ┆           ┆           ┆           ┆          │\n",
       "│ 41.163.189 ┆           ┆          ┆           ┆   ┆           ┆           ┆           ┆          │\n",
       "│ …          ┆           ┆          ┆           ┆   ┆           ┆           ┆           ┆          │\n",
       "└────────────┴───────────┴──────────┴───────────┴───┴───────────┴───────────┴───────────┴──────────┘"
      ]
     },
     "execution_count": 9,
     "metadata": {},
     "output_type": "execute_result"
    }
   ],
   "source": [
    "mawilab_sample_2011_n10_000_path = Path(\"~/data/cicflowmeter_sample_2011-01-01_n10_000.parquet\")\n",
    "mawilab_sample_2011_n10_000 = pl.read_parquet(mawilab_sample_2011_n10_000_path.expanduser())\n",
    "mawilab_sample_2011_n10_000.head()"
   ]
  },
  {
   "cell_type": "code",
   "execution_count": 10,
   "id": "bec51148",
   "metadata": {},
   "outputs": [
    {
     "data": {
      "text/html": [
       "<div><style>\n",
       ".dataframe > thead > tr,\n",
       ".dataframe > tbody > tr {\n",
       "  text-align: right;\n",
       "  white-space: pre-wrap;\n",
       "}\n",
       "</style>\n",
       "<small>shape: (4, 1)</small><table border=\"1\" class=\"dataframe\"><thead><tr><th>Label</th></tr><tr><td>str</td></tr></thead><tbody><tr><td>&quot;notice&quot;</td></tr><tr><td>&quot;anomalous&quot;</td></tr><tr><td>&quot;benign&quot;</td></tr><tr><td>&quot;suspicious&quot;</td></tr></tbody></table></div>"
      ],
      "text/plain": [
       "shape: (4, 1)\n",
       "┌────────────┐\n",
       "│ Label      │\n",
       "│ ---        │\n",
       "│ str        │\n",
       "╞════════════╡\n",
       "│ notice     │\n",
       "│ anomalous  │\n",
       "│ benign     │\n",
       "│ suspicious │\n",
       "└────────────┘"
      ]
     },
     "execution_count": 10,
     "metadata": {},
     "output_type": "execute_result"
    }
   ],
   "source": [
    "mawilab_sample_2011_n10_000.select(target_col).unique()"
   ]
  },
  {
   "cell_type": "code",
   "execution_count": 11,
   "id": "8276544a",
   "metadata": {},
   "outputs": [],
   "source": [
    "preprocessor = CicFlowMeterPreprocessor()"
   ]
  },
  {
   "cell_type": "code",
   "execution_count": 12,
   "id": "ac0645ac",
   "metadata": {},
   "outputs": [],
   "source": [
    "preprocessor.fit(mawilab_sample_2011_n10_000)"
   ]
  },
  {
   "cell_type": "code",
   "execution_count": 13,
   "id": "9d072a0c",
   "metadata": {},
   "outputs": [
    {
     "data": {
      "text/html": [
       "<div><style>\n",
       ".dataframe > thead > tr,\n",
       ".dataframe > tbody > tr {\n",
       "  text-align: right;\n",
       "  white-space: pre-wrap;\n",
       "}\n",
       "</style>\n",
       "<small>shape: (5, 80)</small><table border=\"1\" class=\"dataframe\"><thead><tr><th>Flow Duration</th><th>Total Fwd Packet</th><th>Total Bwd packets</th><th>Total Length of Fwd Packet</th><th>Total Length of Bwd Packet</th><th>Fwd Packet Length Max</th><th>Fwd Packet Length Min</th><th>Fwd Packet Length Mean</th><th>Fwd Packet Length Std</th><th>Bwd Packet Length Max</th><th>Bwd Packet Length Min</th><th>Bwd Packet Length Mean</th><th>Bwd Packet Length Std</th><th>Flow Bytes/s</th><th>Flow Packets/s</th><th>Flow IAT Mean</th><th>Flow IAT Std</th><th>Flow IAT Max</th><th>Flow IAT Min</th><th>Fwd IAT Total</th><th>Fwd IAT Mean</th><th>Fwd IAT Std</th><th>Fwd IAT Max</th><th>Fwd IAT Min</th><th>Bwd IAT Total</th><th>Bwd IAT Mean</th><th>Bwd IAT Std</th><th>Bwd IAT Max</th><th>Bwd IAT Min</th><th>Fwd PSH Flags</th><th>Bwd PSH Flags</th><th>Fwd URG Flags</th><th>Bwd URG Flags</th><th>Fwd Header Length</th><th>Bwd Header Length</th><th>Fwd Packets/s</th><th>Bwd Packets/s</th><th>&hellip;</th><th>SYN Flag Count</th><th>RST Flag Count</th><th>PSH Flag Count</th><th>ACK Flag Count</th><th>URG Flag Count</th><th>CWR Flag Count</th><th>ECE Flag Count</th><th>Down/Up Ratio</th><th>Average Packet Size</th><th>Fwd Segment Size Avg</th><th>Bwd Segment Size Avg</th><th>Fwd Bytes/Bulk Avg</th><th>Fwd Packet/Bulk Avg</th><th>Fwd Bulk Rate Avg</th><th>Bwd Bytes/Bulk Avg</th><th>Bwd Packet/Bulk Avg</th><th>Bwd Bulk Rate Avg</th><th>Subflow Fwd Packets</th><th>Subflow Fwd Bytes</th><th>Subflow Bwd Packets</th><th>Subflow Bwd Bytes</th><th>FWD Init Win Bytes</th><th>Bwd Init Win Bytes</th><th>Fwd Act Data Pkts</th><th>Fwd Seg Size Min</th><th>Active Mean</th><th>Active Std</th><th>Active Max</th><th>Active Min</th><th>Idle Mean</th><th>Idle Std</th><th>Idle Max</th><th>Idle Min</th><th>Protocol_0</th><th>Protocol_17</th><th>Protocol_6</th><th>Label</th></tr><tr><td>f64</td><td>f64</td><td>f64</td><td>f64</td><td>f64</td><td>f64</td><td>f64</td><td>f64</td><td>f64</td><td>f64</td><td>f64</td><td>f64</td><td>f64</td><td>f64</td><td>f64</td><td>f64</td><td>f64</td><td>f64</td><td>f64</td><td>f64</td><td>f64</td><td>f64</td><td>f64</td><td>f64</td><td>f64</td><td>f64</td><td>f64</td><td>f64</td><td>f64</td><td>f64</td><td>f64</td><td>f64</td><td>f64</td><td>f64</td><td>f64</td><td>f64</td><td>f64</td><td>&hellip;</td><td>f64</td><td>f64</td><td>f64</td><td>f64</td><td>f64</td><td>f64</td><td>f64</td><td>f64</td><td>f64</td><td>f64</td><td>f64</td><td>f64</td><td>f64</td><td>f64</td><td>f64</td><td>f64</td><td>f64</td><td>f64</td><td>f64</td><td>f64</td><td>f64</td><td>f64</td><td>f64</td><td>f64</td><td>f64</td><td>f64</td><td>f64</td><td>f64</td><td>f64</td><td>f64</td><td>f64</td><td>f64</td><td>f64</td><td>u8</td><td>u8</td><td>u8</td><td>bool</td></tr></thead><tbody><tr><td>0.024582</td><td>0.00017</td><td>0.0</td><td>0.0</td><td>0.0</td><td>0.0</td><td>0.0</td><td>0.0</td><td>0.0</td><td>0.0</td><td>0.0</td><td>0.0</td><td>0.0</td><td>0.0</td><td>6.6134e-7</td><td>0.024582</td><td>0.0</td><td>0.024582</td><td>0.024582</td><td>0.024582</td><td>0.024582</td><td>0.0</td><td>0.024582</td><td>0.024582</td><td>0.0</td><td>0.0</td><td>0.0</td><td>0.0</td><td>0.0</td><td>0.0</td><td>0.0</td><td>0.0</td><td>0.0</td><td>0.000298</td><td>0.0</td><td>6.6967e-7</td><td>0.0</td><td>&hellip;</td><td>0.222222</td><td>0.0</td><td>0.0</td><td>0.0</td><td>0.0</td><td>0.0</td><td>0.0</td><td>0.0</td><td>0.0</td><td>0.0</td><td>0.0</td><td>0.0</td><td>0.0</td><td>0.0</td><td>0.0</td><td>0.0</td><td>0.0</td><td>0.000693</td><td>0.0</td><td>0.0</td><td>0.0</td><td>1.0</td><td>0.0</td><td>0.0</td><td>0.5</td><td>0.0</td><td>0.0</td><td>0.0</td><td>0.0</td><td>0.0</td><td>0.0</td><td>0.0</td><td>0.0</td><td>0</td><td>0</td><td>1</td><td>false</td></tr><tr><td>0.939388</td><td>0.001192</td><td>0.003926</td><td>0.0</td><td>0.0</td><td>0.0</td><td>0.0</td><td>0.0</td><td>0.0</td><td>0.0</td><td>0.0</td><td>0.0</td><td>0.0</td><td>0.0</td><td>2.0511e-7</td><td>0.039141</td><td>0.048932</td><td>0.121012</td><td>0.000008</td><td>0.895435</td><td>0.12792</td><td>0.153735</td><td>0.325295</td><td>0.018153</td><td>0.938577</td><td>0.059078</td><td>0.071523</td><td>0.174397</td><td>0.000008</td><td>0.0</td><td>0.0</td><td>0.0</td><td>0.0</td><td>0.000915</td><td>0.004203</td><td>6.2634e-8</td><td>0.000002</td><td>&hellip;</td><td>0.0</td><td>0.0</td><td>0.00318</td><td>0.004017</td><td>0.0</td><td>0.0</td><td>0.0</td><td>0.043478</td><td>0.0</td><td>0.0</td><td>0.0</td><td>0.0</td><td>0.0</td><td>0.0</td><td>0.0</td><td>0.0</td><td>0.0</td><td>0.0</td><td>0.0</td><td>0.0</td><td>0.0</td><td>0.994553</td><td>0.997818</td><td>0.0</td><td>0.357143</td><td>0.045187</td><td>0.030557</td><td>0.06908</td><td>0.026231</td><td>0.076546</td><td>0.039115</td><td>0.121012</td><td>0.045585</td><td>0</td><td>0</td><td>1</td><td>true</td></tr><tr><td>0.545805</td><td>0.088355</td><td>0.0</td><td>0.0</td><td>0.0</td><td>0.0</td><td>0.0</td><td>0.0</td><td>0.0</td><td>0.0</td><td>0.0</td><td>0.0</td><td>0.0</td><td>0.0</td><td>0.000008</td><td>0.001052</td><td>0.003762</td><td>0.01231</td><td>0.0</td><td>0.545805</td><td>0.001052</td><td>0.003762</td><td>0.01231</td><td>8.3334e-9</td><td>0.0</td><td>0.0</td><td>0.0</td><td>0.0</td><td>0.0</td><td>0.0</td><td>0.0</td><td>0.0</td><td>0.0</td><td>0.022128</td><td>0.0</td><td>0.000008</td><td>0.0</td><td>&hellip;</td><td>0.0</td><td>0.0</td><td>0.0</td><td>0.0</td><td>0.0</td><td>0.0</td><td>0.0</td><td>0.0</td><td>0.0</td><td>0.0</td><td>0.0</td><td>0.0</td><td>0.0</td><td>0.0</td><td>0.0</td><td>0.0</td><td>0.0</td><td>0.18018</td><td>0.0</td><td>0.0</td><td>0.0</td><td>0.0</td><td>0.0</td><td>0.0</td><td>0.142857</td><td>0.0</td><td>0.0</td><td>0.0</td><td>0.0</td><td>0.0</td><td>0.0</td><td>0.0</td><td>0.0</td><td>0</td><td>1</td><td>0</td><td>true</td></tr><tr><td>0.049852</td><td>0.006469</td><td>0.0</td><td>0.0</td><td>0.0</td><td>0.0</td><td>0.0</td><td>0.0</td><td>0.0</td><td>0.0</td><td>0.0</td><td>0.0</td><td>0.0</td><td>0.0</td><td>0.000007</td><td>0.001312</td><td>0.004342</td><td>0.014438</td><td>0.0</td><td>0.049852</td><td>0.001312</td><td>0.004342</td><td>0.014438</td><td>8.3334e-9</td><td>0.0</td><td>0.0</td><td>0.0</td><td>0.0</td><td>0.0</td><td>0.0</td><td>0.0</td><td>0.0</td><td>0.0</td><td>0.004149</td><td>0.0</td><td>0.000007</td><td>0.0</td><td>&hellip;</td><td>0.0</td><td>0.0</td><td>0.00159</td><td>0.006267</td><td>0.0</td><td>0.0</td><td>0.0</td><td>0.0</td><td>0.0</td><td>0.0</td><td>0.0</td><td>0.0</td><td>0.0</td><td>0.0</td><td>0.0</td><td>0.0</td><td>0.0</td><td>0.006584</td><td>0.0</td><td>0.0</td><td>0.0</td><td>0.001648</td><td>0.0</td><td>0.0</td><td>0.357143</td><td>0.0</td><td>0.0</td><td>0.0</td><td>0.0</td><td>0.0</td><td>0.0</td><td>0.0</td><td>0.0</td><td>0</td><td>0</td><td>1</td><td>true</td></tr><tr><td>0.981395</td><td>0.005618</td><td>0.007159</td><td>0.0</td><td>0.0</td><td>0.0</td><td>0.0</td><td>0.0</td><td>0.0</td><td>0.0</td><td>0.0</td><td>0.0</td><td>0.0</td><td>0.0</td><td>5.3527e-7</td><td>0.015334</td><td>0.029941</td><td>0.110013</td><td>3.3333e-8</td><td>0.850766</td><td>0.025781</td><td>0.051555</td><td>0.141616</td><td>4.1667e-8</td><td>0.964133</td><td>0.032366</td><td>0.04427</td><td>0.123844</td><td>0.004163</td><td>0.0</td><td>0.0</td><td>0.0</td><td>0.0</td><td>0.003617</td><td>0.007159</td><td>2.8037e-7</td><td>0.000003</td><td>&hellip;</td><td>0.0</td><td>0.0</td><td>0.00318</td><td>0.010445</td><td>0.0</td><td>0.0</td><td>0.0</td><td>0.0</td><td>0.0</td><td>0.0</td><td>0.0</td><td>0.0</td><td>0.0</td><td>0.0</td><td>0.0</td><td>0.0</td><td>0.0</td><td>0.0</td><td>0.0</td><td>0.0</td><td>0.0</td><td>0.098146</td><td>0.992508</td><td>0.0</td><td>0.357143</td><td>0.083309</td><td>0.098743</td><td>0.18115</td><td>0.01514</td><td>0.065088</td><td>0.044468</td><td>0.110013</td><td>0.043354</td><td>0</td><td>0</td><td>1</td><td>true</td></tr></tbody></table></div>"
      ],
      "text/plain": [
       "shape: (5, 80)\n",
       "┌────────────┬────────────┬────────────┬───────────┬───┬───────────┬───────────┬───────────┬───────┐\n",
       "│ Flow       ┆ Total Fwd  ┆ Total Bwd  ┆ Total     ┆ … ┆ Protocol_ ┆ Protocol_ ┆ Protocol_ ┆ Label │\n",
       "│ Duration   ┆ Packet     ┆ packets    ┆ Length of ┆   ┆ 0         ┆ 17        ┆ 6         ┆ ---   │\n",
       "│ ---        ┆ ---        ┆ ---        ┆ Fwd       ┆   ┆ ---       ┆ ---       ┆ ---       ┆ bool  │\n",
       "│ f64        ┆ f64        ┆ f64        ┆ Packet    ┆   ┆ u8        ┆ u8        ┆ u8        ┆       │\n",
       "│            ┆            ┆            ┆ ---       ┆   ┆           ┆           ┆           ┆       │\n",
       "│            ┆            ┆            ┆ f64       ┆   ┆           ┆           ┆           ┆       │\n",
       "╞════════════╪════════════╪════════════╪═══════════╪═══╪═══════════╪═══════════╪═══════════╪═══════╡\n",
       "│ 0.024582   ┆ 0.00017    ┆ 0.0        ┆ 0.0       ┆ … ┆ 0         ┆ 0         ┆ 1         ┆ false │\n",
       "│ 0.939388   ┆ 0.001192   ┆ 0.003926   ┆ 0.0       ┆ … ┆ 0         ┆ 0         ┆ 1         ┆ true  │\n",
       "│ 0.545805   ┆ 0.088355   ┆ 0.0        ┆ 0.0       ┆ … ┆ 0         ┆ 1         ┆ 0         ┆ true  │\n",
       "│ 0.049852   ┆ 0.006469   ┆ 0.0        ┆ 0.0       ┆ … ┆ 0         ┆ 0         ┆ 1         ┆ true  │\n",
       "│ 0.981395   ┆ 0.005618   ┆ 0.007159   ┆ 0.0       ┆ … ┆ 0         ┆ 0         ┆ 1         ┆ true  │\n",
       "└────────────┴────────────┴────────────┴───────────┴───┴───────────┴───────────┴───────────┴───────┘"
      ]
     },
     "execution_count": 13,
     "metadata": {},
     "output_type": "execute_result"
    }
   ],
   "source": [
    "mawilab_sample_2011_n10_000_transformed = preprocessor.transform(mawilab_sample_2011_n10_000)\n",
    "mawilab_sample_2011_n10_000_transformed.head()"
   ]
  },
  {
   "cell_type": "code",
   "execution_count": 14,
   "id": "91bd04d1",
   "metadata": {},
   "outputs": [
    {
     "data": {
      "text/html": [
       "<div><style>\n",
       ".dataframe > thead > tr,\n",
       ".dataframe > tbody > tr {\n",
       "  text-align: right;\n",
       "  white-space: pre-wrap;\n",
       "}\n",
       "</style>\n",
       "<small>shape: (1, 11)</small><table border=\"1\" class=\"dataframe\"><thead><tr><th>Fwd Packet Length Std</th><th>Bwd Packet Length Std</th><th>Bwd PSH Flags</th><th>Fwd URG Flags</th><th>Bwd URG Flags</th><th>Packet Length Std</th><th>Packet Length Variance</th><th>URG Flag Count</th><th>Fwd Bytes/Bulk Avg</th><th>Fwd Packet/Bulk Avg</th><th>Fwd Bulk Rate Avg</th></tr><tr><td>u32</td><td>u32</td><td>u32</td><td>u32</td><td>u32</td><td>u32</td><td>u32</td><td>u32</td><td>u32</td><td>u32</td><td>u32</td></tr></thead><tbody><tr><td>1</td><td>1</td><td>1</td><td>1</td><td>1</td><td>1</td><td>1</td><td>1</td><td>1</td><td>1</td><td>1</td></tr></tbody></table></div>"
      ],
      "text/plain": [
       "shape: (1, 11)\n",
       "┌───────────┬───────────┬───────────┬───────────┬───┬───────────┬───────────┬───────────┬──────────┐\n",
       "│ Fwd       ┆ Bwd       ┆ Bwd PSH   ┆ Fwd URG   ┆ … ┆ URG Flag  ┆ Fwd Bytes ┆ Fwd Packe ┆ Fwd Bulk │\n",
       "│ Packet    ┆ Packet    ┆ Flags     ┆ Flags     ┆   ┆ Count     ┆ /Bulk Avg ┆ t/Bulk    ┆ Rate Avg │\n",
       "│ Length    ┆ Length    ┆ ---       ┆ ---       ┆   ┆ ---       ┆ ---       ┆ Avg       ┆ ---      │\n",
       "│ Std       ┆ Std       ┆ u32       ┆ u32       ┆   ┆ u32       ┆ u32       ┆ ---       ┆ u32      │\n",
       "│ ---       ┆ ---       ┆           ┆           ┆   ┆           ┆           ┆ u32       ┆          │\n",
       "│ u32       ┆ u32       ┆           ┆           ┆   ┆           ┆           ┆           ┆          │\n",
       "╞═══════════╪═══════════╪═══════════╪═══════════╪═══╪═══════════╪═══════════╪═══════════╪══════════╡\n",
       "│ 1         ┆ 1         ┆ 1         ┆ 1         ┆ … ┆ 1         ┆ 1         ┆ 1         ┆ 1        │\n",
       "└───────────┴───────────┴───────────┴───────────┴───┴───────────┴───────────┴───────────┴──────────┘"
      ]
     },
     "execution_count": 14,
     "metadata": {},
     "output_type": "execute_result"
    }
   ],
   "source": [
    "# constant columns\n",
    "mawilab_sample_2011_n10_000_transformed.select([\n",
    "    pl.col(col).n_unique() for col in mawilab_sample_2011_n10_000_transformed.columns\n",
    "    if mawilab_sample_2011_n10_000_transformed.select(pl.col(col).n_unique()).item() < 2\n",
    "])\n"
   ]
  }
 ],
 "metadata": {
  "kernelspec": {
   "display_name": "Python 3 (ipykernel)",
   "language": "python",
   "name": "python3"
  },
  "language_info": {
   "codemirror_mode": {
    "name": "ipython",
    "version": 3
   },
   "file_extension": ".py",
   "mimetype": "text/x-python",
   "name": "python",
   "nbconvert_exporter": "python",
   "pygments_lexer": "ipython3",
   "version": "3.12.9"
  }
 },
 "nbformat": 4,
 "nbformat_minor": 5
}
